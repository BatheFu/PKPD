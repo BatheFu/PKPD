{
 "cells": [
  {
   "cell_type": "markdown",
   "metadata": {},
   "source": [
    "### Basic data type, string, and process control"
   ]
  },
  {
   "cell_type": "code",
   "execution_count": 2,
   "metadata": {},
   "outputs": [
    {
     "name": "stdout",
     "output_type": "stream",
     "text": [
      "Hello world\n",
      "Hello\n"
     ]
    }
   ],
   "source": [
    "println(\"Hello world\")\n",
    "println(\"Hello\")"
   ]
  },
  {
   "cell_type": "code",
   "execution_count": 11,
   "metadata": {},
   "outputs": [
    {
     "data": {
      "text/plain": [
       "Int64"
      ]
     },
     "metadata": {},
     "output_type": "display_data"
    }
   ],
   "source": [
    "a = 1 + 1\n",
    "typeof(a)"
   ]
  },
  {
   "cell_type": "code",
   "execution_count": 12,
   "metadata": {},
   "outputs": [
    {
     "data": {
      "text/plain": [
       "String"
      ]
     },
     "metadata": {},
     "output_type": "display_data"
    }
   ],
   "source": [
    "a = \"Hello\"\n",
    "typeof(a)"
   ]
  },
  {
   "cell_type": "code",
   "execution_count": 18,
   "metadata": {},
   "outputs": [
    {
     "name": "stdout",
     "output_type": "stream",
     "text": [
      "16.233861594573302"
     ]
    }
   ],
   "source": [
    "#For loop\n",
    "x = 0\n",
    "for k in 1:10000\n",
    "    x = x + (π/k)^2\n",
    "end\n",
    "print(x)"
   ]
  },
  {
   "cell_type": "code",
   "execution_count": 20,
   "metadata": {},
   "outputs": [
    {
     "name": "stdout",
     "output_type": "stream",
     "text": [
      "i=1 j=1\n",
      "i=1 j=2\n",
      "i=2 j=1\n",
      "i=2 j=2\n",
      "i=3 j=1\n",
      "i=3 j=2\n"
     ]
    }
   ],
   "source": [
    "#Nested For loop\n",
    "for i in 1:3\n",
    "    for j in 1:2\n",
    "        print(\"i=\", i, \" j=\", j, \"\\n\")\n",
    "    end\n",
    "end"
   ]
  },
  {
   "cell_type": "code",
   "execution_count": 22,
   "metadata": {},
   "outputs": [
    {
     "name": "stdout",
     "output_type": "stream",
     "text": [
      "i= 1 j=1\n",
      "i= 1 j=2\n",
      "i= 2 j=1\n",
      "i= 2 j=2\n",
      "i= 3 j=1\n",
      "i= 3 j=2\n"
     ]
    }
   ],
   "source": [
    "#Comprehensive for loop\n",
    "for i ∈ 1:3, j ∈ 1:2\n",
    "    print(\"i= \",i, \" j=\",j,\"\\n\")\n",
    "end"
   ]
  },
  {
   "cell_type": "code",
   "execution_count": 27,
   "metadata": {},
   "outputs": [
    {
     "data": {
      "text/plain": [
       "true"
      ]
     },
     "metadata": {},
     "output_type": "display_data"
    }
   ],
   "source": [
    "# bool is a subtype of interger\n",
    "#so\n",
    "true + true == 2"
   ]
  },
  {
   "cell_type": "code",
   "execution_count": 31,
   "metadata": {},
   "outputs": [
    {
     "name": "stdout",
     "output_type": "stream",
     "text": [
      "Hello Words\n",
      "0.14285714285714285"
     ]
    }
   ],
   "source": [
    "#concatenate strings\n",
    "print(string(\"Hello\",\" \",\"Words\",\"\\n\"))\n",
    "print(string(1/7))"
   ]
  },
  {
   "cell_type": "code",
   "execution_count": 36,
   "metadata": {},
   "outputs": [
    {
     "name": "stdout",
     "output_type": "stream",
     "text": [
      "0.14285714285714285\n"
     ]
    }
   ],
   "source": [
    "#Format strings\n",
    "print(\"$(1/7)\")\n",
    "print(\"\\n\")"
   ]
  },
  {
   "cell_type": "code",
   "execution_count": 40,
   "metadata": {},
   "outputs": [
    {
     "data": {
      "text/plain": [
       "\"0.1429\""
      ]
     },
     "metadata": {},
     "output_type": "display_data"
    }
   ],
   "source": [
    "using Printf\n",
    "@sprintf(\"%6.4f\",1/7)  # Returns `\"0.1429\"`"
   ]
  },
  {
   "cell_type": "code",
   "execution_count": 41,
   "metadata": {},
   "outputs": [
    {
     "data": {
      "text/plain": [
       "\"Our model has a R^2 of 0.94, rmse of 1.5, and mse of 1.1\""
      ]
     },
     "metadata": {},
     "output_type": "display_data"
    }
   ],
   "source": [
    "rmse = 1.5; mse = 1.1; R2 = 0.94\n",
    "\"Our model has a R^2 of $(R2), rmse of $(rmse), and mse of $(mse)\""
   ]
  },
  {
   "cell_type": "code",
   "execution_count": 51,
   "metadata": {},
   "outputs": [
    {
     "data": {
      "text/plain": [
       "1.6448340718480652"
      ]
     },
     "metadata": {},
     "output_type": "display_data"
    }
   ],
   "source": [
    "#Break and continue statement\n",
    "x = 0\n",
    "for k in 1:10000\n",
    "    term = (1/k)^2\n",
    "    x = x + term\n",
    "    if (abs(term) < 1e-10) break end\n",
    "end\n",
    "x"
   ]
  },
  {
   "cell_type": "code",
   "execution_count": 55,
   "metadata": {},
   "outputs": [
    {
     "data": {
      "text/plain": [
       "38.92762402156585"
      ]
     },
     "metadata": {},
     "output_type": "display_data"
    }
   ],
   "source": [
    "#continue:\n",
    "# A reasonable use-case for the continue statement is as some sort of precondition-test for a bad argument passed to a loop.\n",
    "numbers = randn(100)\n",
    "sum = 0\n",
    "for k in numbers\n",
    "    if (k ==0) continue end\n",
    "    sum += (1/k)\n",
    "end\n",
    "sum"
   ]
  },
  {
   "cell_type": "code",
   "execution_count": 61,
   "metadata": {},
   "outputs": [
    {
     "name": "stdout",
     "output_type": "stream",
     "text": [
      "Sum is 316.730"
     ]
    }
   ],
   "source": [
    "numbers = randn(100)\n",
    "sum = 0\n",
    "for k in numbers\n",
    "    if (k != 0)\n",
    "        sum = sum + 1/k\n",
    "    end\n",
    "end\n",
    "using Printf\n",
    "print(@sprintf(\"Sum is %.3f\", sum))\n",
    "# more naturally if written this way"
   ]
  },
  {
   "cell_type": "markdown",
   "metadata": {},
   "source": [
    "### Function"
   ]
  },
  {
   "cell_type": "code",
   "execution_count": 62,
   "metadata": {},
   "outputs": [
    {
     "data": {
      "text/plain": [
       "sum_zeta (generic function with 1 method)"
      ]
     },
     "metadata": {},
     "output_type": "display_data"
    }
   ],
   "source": [
    "function sum_zeta(s, nterms)\n",
    "    x = 0\n",
    "    for n in 1:nterms\n",
    "        x = x + (1/n)^s\n",
    "    end\n",
    "    return x\n",
    "end"
   ]
  },
  {
   "cell_type": "code",
   "execution_count": 63,
   "metadata": {},
   "outputs": [
    {
     "data": {
      "text/plain": [
       "1.6448340718480652"
      ]
     },
     "metadata": {},
     "output_type": "display_data"
    }
   ],
   "source": [
    "sum_zeta(2,10000)"
   ]
  },
  {
   "cell_type": "code",
   "execution_count": 78,
   "metadata": {},
   "outputs": [
    {
     "data": {
      "text/plain": [
       "(12.566370614359172, 12.566370614359172)"
      ]
     },
     "metadata": {},
     "output_type": "display_data"
    }
   ],
   "source": [
    "function circle(r)\n",
    "    area = π * r^2\n",
    "    cicum = 2π * r\n",
    "    return area, cicum\n",
    "end\n",
    "\n",
    "a,c = circle(2)\n",
    "(a,c)"
   ]
  },
  {
   "cell_type": "code",
   "execution_count": 3,
   "metadata": {},
   "outputs": [
    {
     "data": {
      "text/plain": [
       "3-element Vector{Int64}:\n",
       " 2\n",
       " 3\n",
       " 4"
      ]
     },
     "execution_count": 3,
     "metadata": {},
     "output_type": "execute_result"
    }
   ],
   "source": [
    "#! means the parameters pass in the func will be modified\n",
    "function add_one!(x)\n",
    "    x .= x .+ 1\n",
    "end\n",
    "\n",
    "x = [1,2,3]\n",
    "add_one!(x);    # x is now [2,3,4]\n",
    "x"
   ]
  },
  {
   "cell_type": "code",
   "execution_count": 85,
   "metadata": {},
   "outputs": [],
   "source": [
    "#=\n",
    "multiple\n",
    "lines\n",
    "annotation\n",
    "=#"
   ]
  },
  {
   "cell_type": "markdown",
   "metadata": {},
   "source": [
    "### Arrays"
   ]
  },
  {
   "cell_type": "code",
   "execution_count": 1,
   "metadata": {},
   "outputs": [
    {
     "data": {
      "text/plain": [
       "3×3 Matrix{Int64}:\n",
       " 1  2  3\n",
       " 1  2  4\n",
       " 2  2  2"
      ]
     },
     "metadata": {},
     "output_type": "display_data"
    }
   ],
   "source": [
    "#Arrays\n",
    "A = [\n",
    "    1 2 3;\n",
    "    1 2 4;\n",
    "    2 2 2\n",
    "]\n",
    "A"
   ]
  },
  {
   "cell_type": "code",
   "execution_count": 2,
   "metadata": {},
   "outputs": [
    {
     "data": {
      "text/plain": [
       "3×3 Matrix{Int64}:\n",
       " 1  2  3\n",
       " 1  2  4\n",
       " 2  2  2"
      ]
     },
     "metadata": {},
     "output_type": "display_data"
    }
   ],
   "source": [
    "# The same as above; more concise\n",
    "A = [1 2 3; 1 2 4; 2 2 2]\n",
    "A"
   ]
  },
  {
   "cell_type": "code",
   "execution_count": 3,
   "metadata": {},
   "outputs": [
    {
     "data": {
      "text/plain": [
       "1×3 Matrix{Float64}:\n",
       " 4.0  5.0  6.0"
      ]
     },
     "metadata": {},
     "output_type": "display_data"
    }
   ],
   "source": [
    "b1 = [4.0, 5, 6]                # 3-element Vector{Float64}\n",
    "b2 = [4.0; 5; 6]                # 3-element Vector{Float64}\n",
    "m1 = [4.0 5 6]                  # 1×3 Matrix{Float64}"
   ]
  },
  {
   "cell_type": "code",
   "execution_count": 5,
   "metadata": {},
   "outputs": [
    {
     "data": {
      "text/plain": [
       "4-element Vector{Any}:\n",
       "  \"Hello\"\n",
       " 1\n",
       " 2\n",
       " 3"
      ]
     },
     "metadata": {},
     "output_type": "display_data"
    }
   ],
   "source": [
    "A = [\"Hello\", 1, 2, 3]\n",
    "A\n",
    "\n",
    "# whitespace -> Matrix\n",
    "#comma or semicolon -> Vector"
   ]
  },
  {
   "cell_type": "code",
   "execution_count": 7,
   "metadata": {},
   "outputs": [
    {
     "data": {
      "text/plain": [
       "1.644834071848061"
      ]
     },
     "metadata": {},
     "output_type": "display_data"
    }
   ],
   "source": [
    "# array comprehension\n",
    "v = [1/n^2 for n = 1:10000]\n",
    "x = sum(v)"
   ]
  },
  {
   "cell_type": "code",
   "execution_count": 8,
   "metadata": {},
   "outputs": [
    {
     "data": {
      "text/plain": [
       "1.6448340718480652"
      ]
     },
     "metadata": {},
     "output_type": "display_data"
    }
   ],
   "source": [
    "# generator\n",
    "gen = (1/n^2 for n=1:10000)\n",
    "x = sum(gen)"
   ]
  },
  {
   "cell_type": "code",
   "execution_count": 9,
   "metadata": {},
   "outputs": [
    {
     "data": {
      "text/plain": [
       "5-element Vector{Float64}:\n",
       " 0.0\n",
       " 0.0\n",
       " 0.0\n",
       " 0.0\n",
       " 0.0"
      ]
     },
     "metadata": {},
     "output_type": "display_data"
    }
   ],
   "source": [
    "#undefined arrays\n",
    "#The reason to declare undefined arrays is to be able to fill them later — for example, with the use of a for loop.\n",
    "\n",
    "n = 5\n",
    "A1 = Array{Float64}(undef,n,n)          # 5×5 Matrix{Float64}\n",
    "A2 = Matrix{Float64}(undef,n,n)         # 5×5 Matrix{Float64}\n",
    "\n",
    "V1 = Array{Float64}(undef,n)            # 5-element Vector{Float64}\n",
    "V2 = Vector{Float64}(undef,n)           # 5-element Vector{Float64}"
   ]
  },
  {
   "cell_type": "code",
   "execution_count": 10,
   "metadata": {},
   "outputs": [
    {
     "data": {
      "text/plain": [
       "Float64[]"
      ]
     },
     "metadata": {},
     "output_type": "display_data"
    }
   ],
   "source": [
    "# To specify type\n",
    "v = Float64[]"
   ]
  },
  {
   "cell_type": "code",
   "execution_count": 11,
   "metadata": {},
   "outputs": [
    {
     "data": {
      "text/plain": [
       "3×3 Matrix{Float64}:\n",
       " 1.0  1.0  1.0\n",
       " 1.0  1.0  1.0\n",
       " 1.0  1.0  1.0"
      ]
     },
     "metadata": {},
     "output_type": "display_data"
    }
   ],
   "source": [
    "#special kind of arrays\n",
    "A = zeros(8,8)\n",
    "B = ones(3,3)\n"
   ]
  },
  {
   "cell_type": "code",
   "execution_count": 13,
   "metadata": {},
   "outputs": [
    {
     "data": {
      "text/plain": [
       "3×3×1 Array{Float64, 3}:\n",
       "[:, :, 1] =\n",
       " 0.306494   0.115779  0.644294\n",
       " 0.673215   0.393963  0.592625\n",
       " 0.0913278  0.76805   0.51975"
      ]
     },
     "metadata": {},
     "output_type": "display_data"
    }
   ],
   "source": [
    "C = rand(3,3,1)"
   ]
  },
  {
   "cell_type": "code",
   "execution_count": 15,
   "metadata": {},
   "outputs": [
    {
     "data": {
      "text/plain": [
       "2×2 Matrix{Float64}:\n",
       " 5.04168    0.808613\n",
       " 0.0766023  5.16764"
      ]
     },
     "metadata": {},
     "output_type": "display_data"
    }
   ],
   "source": [
    "using LinearAlgebra\n",
    "M = 5I + rand(2,2)"
   ]
  },
  {
   "cell_type": "markdown",
   "metadata": {},
   "source": [
    "### Array function and dot operartor"
   ]
  },
  {
   "cell_type": "markdown",
   "metadata": {},
   "source": [
    "easily turn a function than accepts a scalar value, \n",
    "    and apply it element-wise to an array. \n",
    "The way to do this is to employ a ‘dot’ \n",
    "after the function’s name.\n"
   ]
  },
  {
   "cell_type": "code",
   "execution_count": 18,
   "metadata": {},
   "outputs": [
    {
     "data": {
      "text/plain": [
       "3-element Vector{Float64}:\n",
       " 18.383886633134814\n",
       "  8.55770151410267\n",
       "  5.11671431742654"
      ]
     },
     "metadata": {},
     "output_type": "display_data"
    }
   ],
   "source": [
    "# define a func\n",
    "f(x) = 3x^3/(1+x^2)\n",
    "x = [2π / n for n = 1:3]\n",
    "y = f.(x)"
   ]
  },
  {
   "cell_type": "code",
   "execution_count": 19,
   "metadata": {},
   "outputs": [
    {
     "data": {
      "text/plain": [
       "3-element Vector{Float64}:\n",
       " -2.4492935982947064e-16\n",
       "  1.2246467991473532e-16\n",
       "  0.8660254037844387"
      ]
     },
     "metadata": {},
     "output_type": "display_data"
    }
   ],
   "source": [
    "y = sin.(x)"
   ]
  },
  {
   "cell_type": "markdown",
   "metadata": {},
   "source": [
    "### Indexing and Slicing"
   ]
  },
  {
   "cell_type": "code",
   "execution_count": 22,
   "metadata": {},
   "outputs": [
    {
     "name": "stdout",
     "output_type": "stream",
     "text": [
      "[0.5705246965265665, 0.526303100526652, 0.7750808332292207, 0.9904576110903489, 0.4771486453597087, 0.3685079828615606]"
     ]
    },
    {
     "data": {
      "text/plain": [
       "0.3685079828615606"
      ]
     },
     "metadata": {},
     "output_type": "display_data"
    }
   ],
   "source": [
    "A = rand(6)\n",
    "print(A)\n",
    "A[begin]\n",
    "    \n",
    "A[end]"
   ]
  },
  {
   "cell_type": "code",
   "execution_count": 29,
   "metadata": {},
   "outputs": [
    {
     "data": {
      "text/plain": [
       "3×3 Matrix{Float64}:\n",
       " 0.134753   0.984971  0.875538\n",
       " 0.0619011  0.71055   0.96637\n",
       " 0.167132   0.531287  0.832167"
      ]
     },
     "metadata": {},
     "output_type": "display_data"
    }
   ],
   "source": [
    "#slicing\n",
    "A = rand(6,6)\n",
    "\n",
    "# extract the odd indices \n",
    "#in both dimensions from a 6x6 matrix\n",
    "B = A[begin:2:end,begin:2:end]"
   ]
  },
  {
   "cell_type": "code",
   "execution_count": 35,
   "metadata": {},
   "outputs": [
    {
     "data": {
      "text/plain": [
       "6×6 Matrix{Float64}:\n",
       " 0.0       0.0       0.588084  0.0       0.0       0.0\n",
       " 0.0       0.0       0.858886  0.537348  0.0       0.0\n",
       " 0.0       0.0       0.878515  0.0       0.0       0.0\n",
       " 0.783599  0.878829  0.0       0.66177   0.0       0.634533\n",
       " 0.513767  0.901853  0.0       0.0       0.956552  0.631326\n",
       " 0.939417  0.539452  0.0       0.0       0.830601  0.0"
      ]
     },
     "metadata": {},
     "output_type": "display_data"
    }
   ],
   "source": [
    "#Logical Indexing\n",
    "A = rand(6,6)\n",
    "#@. element wise\n",
    "@. A[ A < 0.5] =0\n",
    "A"
   ]
  },
  {
   "cell_type": "code",
   "execution_count": 37,
   "metadata": {},
   "outputs": [
    {
     "name": "stdout",
     "output_type": "stream",
     "text": [
      "i=1 A[i]=0.41014609052794815\n",
      "i=2 A[i]=0.3531342600681986\n",
      "i=3 A[i]=0.8665995289509187\n",
      "i=4 A[i]=0.08654276909839909\n",
      "i=5 A[i]=0.18008023947306684\n",
      "i=6 A[i]=0.13791802222299665\n"
     ]
    }
   ],
   "source": [
    "A = rand(6)\n",
    "for i ∈ eachindex(A)\n",
    "    println(string(\"i=$(i) A[i]=$(A[i])\"))\n",
    "end"
   ]
  },
  {
   "cell_type": "code",
   "execution_count": 41,
   "metadata": {},
   "outputs": [
    {
     "name": "stdout",
     "output_type": "stream",
     "text": [
      "i=1 A[i]=0.06186664850574786\n",
      "i=2 A[i]=0.3248207525966803\n",
      "i=3 A[i]=0.6654737931034029\n",
      "i=4 A[i]=0.6606263863003327\n",
      "i=5 A[i]=0.08601371887954745\n",
      "i=6 A[i]=0.7573126174544177\n"
     ]
    }
   ],
   "source": [
    "A = rand(6)\n",
    "for i in eachindex(A)\n",
    "    println(string(\"i=$(i) A[i]=$(A[i])\"))\n",
    "end"
   ]
  },
  {
   "cell_type": "code",
   "execution_count": 44,
   "metadata": {},
   "outputs": [
    {
     "name": "stdout",
     "output_type": "stream",
     "text": [
      "i=1 j=1 A[i,j]=0.6793025350584356\n",
      "i=1 j=2 A[i,j]=0.8422731304786125\n",
      "i=1 j=3 A[i,j]=0.6755511910178371\n",
      "i=2 j=1 A[i,j]=0.594250748072436\n",
      "i=2 j=2 A[i,j]=0.06985634866624402\n",
      "i=2 j=3 A[i,j]=0.007857501745935469\n"
     ]
    }
   ],
   "source": [
    "A = rand(2,3)\n",
    "for i ∈ 1:size(A,1), j ∈ 1:size(A,2)\n",
    "    println(string(\"i=$(i) j=$(j) A[i,j]=$(A[i,j])\"))\n",
    "end"
   ]
  },
  {
   "cell_type": "markdown",
   "metadata": {},
   "source": [
    "### Resize and Concat Arrays"
   ]
  },
  {
   "cell_type": "code",
   "execution_count": 45,
   "metadata": {},
   "outputs": [
    {
     "data": {
      "text/plain": [
       "3.0"
      ]
     },
     "metadata": {},
     "output_type": "display_data"
    }
   ],
   "source": [
    "A = Float64[]       # Equivalent to A=Array{Float64}(undef,0)\n",
    "push!(A, 4)         # Adds the number 4 at the end of the array\n",
    "push!(A, 3)         # Adds the number 3 at the end of the array\n",
    "v = pop!(A)         # Returns 3 and removes it from A"
   ]
  },
  {
   "cell_type": "code",
   "execution_count": 46,
   "metadata": {},
   "outputs": [
    {
     "name": "stdout",
     "output_type": "stream",
     "text": [
      "[4 5 6; 6 7 8]\n",
      "[4 5 6 6 7 8]\n"
     ]
    }
   ],
   "source": [
    "A = [4 5 6] \n",
    "B = [6 7 8] \n",
    "\n",
    "M1 = vcat(A, B)\n",
    "\n",
    "M2 = hcat(A, B)\n",
    "\n",
    "println(M1)\n",
    "println(M2)"
   ]
  },
  {
   "cell_type": "code",
   "execution_count": 48,
   "metadata": {},
   "outputs": [
    {
     "data": {
      "text/plain": [
       "2×3 Matrix{Int64}:\n",
       " 4  5  6\n",
       " 6  7  8"
      ]
     },
     "metadata": {},
     "output_type": "display_data"
    }
   ],
   "source": [
    "M1 = cat(A, B, dims=1)"
   ]
  },
  {
   "cell_type": "code",
   "execution_count": 49,
   "metadata": {},
   "outputs": [
    {
     "data": {
      "text/plain": [
       "1×6 Matrix{Int64}:\n",
       " 4  5  6  6  7  8"
      ]
     },
     "metadata": {},
     "output_type": "display_data"
    }
   ],
   "source": [
    "M2= cat(A, B, dims=2)"
   ]
  },
  {
   "cell_type": "code",
   "execution_count": null,
   "metadata": {},
   "outputs": [],
   "source": []
  }
 ],
 "metadata": {
  "kernelspec": {
   "display_name": "Julia 1.10.0",
   "language": "julia",
   "name": "julia-1.10"
  },
  "language_info": {
   "file_extension": ".jl",
   "mimetype": "application/julia",
   "name": "julia",
   "version": "1.10.0"
  }
 },
 "nbformat": 4,
 "nbformat_minor": 2
}
