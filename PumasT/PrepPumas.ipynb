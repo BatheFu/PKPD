{
 "cells": [
  {
   "cell_type": "markdown",
   "metadata": {},
   "source": [
    "配置安装Pumas, a toolkit for PopPK and QSP\n",
    "Step1, 在Pumas for Academia网站用教育邮箱申请使用权限，审核一天后可获得Licence\n",
    "Step2, 根据邮件中的提示下载Pumas，之后在Vs Code中配置\n",
    "Step3, 在 Jupyter settings中修改Julia启动参数，使得启动时即可加载Pumas环境，而非默认的Julia环境"
   ]
  },
  {
   "cell_type": "markdown",
   "metadata": {},
   "source": [
    "### 参照Tutorial试运行\n",
    "Website: https://tutorials.pumas.ai/html/introduction/introduction.html"
   ]
  },
  {
   "cell_type": "code",
   "execution_count": null,
   "metadata": {},
   "outputs": [],
   "source": [
    "using Pumas\n",
    "using PumasUtilities\n",
    "using NCA\n",
    "using NCAUtilities\n",
    "using GLM:lm, @formula\n",
    "using Random\n",
    "using CSV\n",
    "using DataFramesMeta\n",
    "using CairoMakie\n",
    "using PharmaDatasets"
   ]
  },
  {
   "cell_type": "code",
   "execution_count": null,
   "metadata": {},
   "outputs": [],
   "source": [
    "pkpain_df = dataset(\"pk_painrelief\")"
   ]
  },
  {
   "cell_type": "code",
   "execution_count": null,
   "metadata": {},
   "outputs": [],
   "source": [
    "pkpain_noplb_df = @rsubset pkpain_df :Dose != \"Placebo\";"
   ]
  },
  {
   "cell_type": "code",
   "execution_count": null,
   "metadata": {},
   "outputs": [],
   "source": [
    "@rtransform! pkpain_noplb_df begin\n",
    "  :route = \"ev\"\n",
    "  :Dose = parse(Int, chop(:Dose; tail = 3))\n",
    "end;"
   ]
  },
  {
   "cell_type": "code",
   "execution_count": null,
   "metadata": {},
   "outputs": [],
   "source": [
    "@rtransform! pkpain_noplb_df :amt = :Time == 0 ? :Dose : missing;"
   ]
  },
  {
   "cell_type": "code",
   "execution_count": null,
   "metadata": {},
   "outputs": [],
   "source": [
    "pkpain_nca = read_nca(\n",
    "  pkpain_noplb_df;\n",
    "  id = :Subject,\n",
    "  time = :Time,\n",
    "  amt = :amt,\n",
    "  observations = :Conc,\n",
    "  group = [:Dose],\n",
    "  route = :route,\n",
    ")"
   ]
  },
  {
   "cell_type": "code",
   "execution_count": null,
   "metadata": {},
   "outputs": [],
   "source": [
    "let\n",
    "    f = observations_vs_time(\n",
    "      pkpain_nca;\n",
    "      paginate = true,\n",
    "      axis = (; xlabel = \"Time (hr)\", ylabel = \"CTMNoPain Concentration (ng/mL)\"),\n",
    "      facet = (; combinelabels = true),\n",
    "    )\n",
    "    f[1]\n",
    "  end"
   ]
  },
  {
   "cell_type": "code",
   "execution_count": null,
   "metadata": {},
   "outputs": [],
   "source": [
    "summary_observations_vs_time(\n",
    "  pkpain_nca,\n",
    "  figure = (; fontsize = 22, resolution = (800, 1000)),\n",
    "  color = \"black\",\n",
    "  linewidth = 3,\n",
    "  axis = (; xlabel = \"Time (hr)\", ylabel = \"CTMX Concentration (μg/mL)\"),\n",
    "  facet = (; combinelabels = true, linkaxes = true),\n",
    ")\n"
   ]
  },
  {
   "cell_type": "code",
   "execution_count": null,
   "metadata": {},
   "outputs": [],
   "source": [
    "function count()\n",
    "    n = 0\n",
    "    while n < 1000000000\n",
    "        n += 1\n",
    "    end\n",
    "end\n",
    "\n",
    "using BenchmarkTools\n",
    "@benchmark count()"
   ]
  }
 ],
 "metadata": {
  "kernelspec": {
   "display_name": "Julia 1.9.2",
   "language": "julia",
   "name": "julia-1.9"
  },
  "language_info": {
   "file_extension": ".jl",
   "mimetype": "application/julia",
   "name": "julia",
   "version": "1.9.2"
  }
 },
 "nbformat": 4,
 "nbformat_minor": 2
}
